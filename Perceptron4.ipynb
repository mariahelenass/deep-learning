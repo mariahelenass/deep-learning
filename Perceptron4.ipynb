{
 "cells": [
  {
   "cell_type": "markdown",
   "metadata": {},
   "source": [
    "## Perceptron\n",
    "\n",
    "Using \"OR\" operator:\n",
    "\n",
    "* 0 and 0 = 0\n",
    "* 0 and 1 = 1\n",
    "* 1 and 0 = 1\n",
    "* 1 and 1 = 1"
   ]
  },
  {
   "cell_type": "code",
   "execution_count": 14,
   "metadata": {},
   "outputs": [],
   "source": [
    "import numpy as np "
   ]
  },
  {
   "cell_type": "code",
   "execution_count": 15,
   "metadata": {},
   "outputs": [],
   "source": [
    "inputs = ([0,0], [0,1], [1,0], [1,1])"
   ]
  },
  {
   "cell_type": "code",
   "execution_count": 16,
   "metadata": {},
   "outputs": [],
   "source": [
    "outputs = np.array([0,1,1,1])"
   ]
  },
  {
   "cell_type": "code",
   "execution_count": 17,
   "metadata": {},
   "outputs": [],
   "source": [
    "weigths = np.array([0.0, 0.0])"
   ]
  },
  {
   "cell_type": "code",
   "execution_count": 18,
   "metadata": {},
   "outputs": [],
   "source": [
    "learning_rate = 0.1"
   ]
  },
  {
   "cell_type": "markdown",
   "metadata": {},
   "source": [
    "## Step Function"
   ]
  },
  {
   "cell_type": "code",
   "execution_count": 19,
   "metadata": {},
   "outputs": [],
   "source": [
    "def step_function(sum):\n",
    "    if(sum >=1 ):\n",
    "        return 1\n",
    "    return 0"
   ]
  },
  {
   "cell_type": "markdown",
   "metadata": {},
   "source": [
    "## Calculate Output"
   ]
  },
  {
   "cell_type": "code",
   "execution_count": 20,
   "metadata": {},
   "outputs": [],
   "source": [
    "def calculate_output(instance):\n",
    "    s = (np.array(instance).dot(weigths))\n",
    "    return step_function(s)"
   ]
  },
  {
   "cell_type": "code",
   "execution_count": 21,
   "metadata": {},
   "outputs": [
    {
     "data": {
      "text/plain": [
       "0"
      ]
     },
     "execution_count": 21,
     "metadata": {},
     "output_type": "execute_result"
    }
   ],
   "source": [
    "calculate_output(np.array([1,1]))"
   ]
  },
  {
   "cell_type": "markdown",
   "metadata": {},
   "source": [
    "## Train"
   ]
  },
  {
   "cell_type": "code",
   "execution_count": 22,
   "metadata": {},
   "outputs": [
    {
     "data": {
      "text/plain": [
       "[0, 0]"
      ]
     },
     "execution_count": 22,
     "metadata": {},
     "output_type": "execute_result"
    }
   ],
   "source": [
    "inputs[0]"
   ]
  },
  {
   "cell_type": "code",
   "execution_count": 23,
   "metadata": {},
   "outputs": [],
   "source": [
    "def train():\n",
    "  total_error = 1\n",
    "  while (total_error != 0):\n",
    "    total_error = 0\n",
    "    for i in range(len(outputs)):\n",
    "      prediction = calculate_output(inputs[i])\n",
    "      error = abs(outputs[i] - prediction)\n",
    "      total_error += error\n",
    "      if error > 0:\n",
    "        for j in range(len(weigths)):\n",
    "          weigths[j] = weigths[j] + (learning_rate * inputs[i][j] * error)\n",
    "          print('Weight updated: ' + str(weigths[j]))  \n",
    "    print('Total error: ' + str(total_error))"
   ]
  },
  {
   "cell_type": "code",
   "execution_count": 24,
   "metadata": {},
   "outputs": [
    {
     "name": "stdout",
     "output_type": "stream",
     "text": [
      "Weight updated: 0.0\n",
      "Weight updated: 0.1\n",
      "Weight updated: 0.1\n",
      "Weight updated: 0.1\n",
      "Weight updated: 0.2\n",
      "Weight updated: 0.2\n",
      "Total error: 3\n",
      "Weight updated: 0.2\n",
      "Weight updated: 0.30000000000000004\n",
      "Weight updated: 0.30000000000000004\n",
      "Weight updated: 0.30000000000000004\n",
      "Weight updated: 0.4\n",
      "Weight updated: 0.4\n",
      "Total error: 3\n",
      "Weight updated: 0.4\n",
      "Weight updated: 0.5\n",
      "Weight updated: 0.5\n",
      "Weight updated: 0.5\n",
      "Total error: 2\n",
      "Weight updated: 0.5\n",
      "Weight updated: 0.6\n",
      "Weight updated: 0.6\n",
      "Weight updated: 0.6\n",
      "Total error: 2\n",
      "Weight updated: 0.6\n",
      "Weight updated: 0.7\n",
      "Weight updated: 0.7\n",
      "Weight updated: 0.7\n",
      "Total error: 2\n",
      "Weight updated: 0.7\n",
      "Weight updated: 0.7999999999999999\n",
      "Weight updated: 0.7999999999999999\n",
      "Weight updated: 0.7999999999999999\n",
      "Total error: 2\n",
      "Weight updated: 0.7999999999999999\n",
      "Weight updated: 0.8999999999999999\n",
      "Weight updated: 0.8999999999999999\n",
      "Weight updated: 0.8999999999999999\n",
      "Total error: 2\n",
      "Weight updated: 0.8999999999999999\n",
      "Weight updated: 0.9999999999999999\n",
      "Weight updated: 0.9999999999999999\n",
      "Weight updated: 0.9999999999999999\n",
      "Total error: 2\n",
      "Weight updated: 0.9999999999999999\n",
      "Weight updated: 1.0999999999999999\n",
      "Weight updated: 1.0999999999999999\n",
      "Weight updated: 1.0999999999999999\n",
      "Total error: 2\n",
      "Total error: 0\n"
     ]
    }
   ],
   "source": [
    "train()"
   ]
  },
  {
   "cell_type": "markdown",
   "metadata": {},
   "source": [
    "## Classification"
   ]
  },
  {
   "cell_type": "code",
   "execution_count": 30,
   "metadata": {},
   "outputs": [
    {
     "data": {
      "text/plain": [
       "array([1.1, 1.1])"
      ]
     },
     "execution_count": 30,
     "metadata": {},
     "output_type": "execute_result"
    }
   ],
   "source": [
    "weigths"
   ]
  },
  {
   "cell_type": "code",
   "execution_count": 29,
   "metadata": {},
   "outputs": [
    {
     "data": {
      "text/plain": [
       "0"
      ]
     },
     "execution_count": 29,
     "metadata": {},
     "output_type": "execute_result"
    }
   ],
   "source": [
    "calculate_output(np.array([0,0]))"
   ]
  },
  {
   "cell_type": "code",
   "execution_count": 28,
   "metadata": {},
   "outputs": [
    {
     "data": {
      "text/plain": [
       "1"
      ]
     },
     "execution_count": 28,
     "metadata": {},
     "output_type": "execute_result"
    }
   ],
   "source": [
    "calculate_output(np.array([0,1]))"
   ]
  },
  {
   "cell_type": "code",
   "execution_count": 27,
   "metadata": {},
   "outputs": [
    {
     "data": {
      "text/plain": [
       "1"
      ]
     },
     "execution_count": 27,
     "metadata": {},
     "output_type": "execute_result"
    }
   ],
   "source": [
    "calculate_output(np.array([1,0]))"
   ]
  },
  {
   "cell_type": "code",
   "execution_count": 25,
   "metadata": {},
   "outputs": [
    {
     "data": {
      "text/plain": [
       "1"
      ]
     },
     "execution_count": 25,
     "metadata": {},
     "output_type": "execute_result"
    }
   ],
   "source": [
    "calculate_output(np.array([1,1]))"
   ]
  }
 ],
 "metadata": {
  "kernelspec": {
   "display_name": "Python 3.9.12 ('base')",
   "language": "python",
   "name": "python3"
  },
  "language_info": {
   "codemirror_mode": {
    "name": "ipython",
    "version": 3
   },
   "file_extension": ".py",
   "mimetype": "text/x-python",
   "name": "python",
   "nbconvert_exporter": "python",
   "pygments_lexer": "ipython3",
   "version": "3.9.12"
  },
  "orig_nbformat": 4,
  "vscode": {
   "interpreter": {
    "hash": "374f60d5463b04fd4cc839152427fa2d241991bbd8113f0a7036f6505605400b"
   }
  }
 },
 "nbformat": 4,
 "nbformat_minor": 2
}
